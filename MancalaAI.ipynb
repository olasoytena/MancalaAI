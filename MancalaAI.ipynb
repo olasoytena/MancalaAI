{
 "cells": [
  {
   "cell_type": "code",
   "execution_count": 178,
   "id": "7e374127-a097-4913-b640-b3c60c2fc7c3",
   "metadata": {},
   "outputs": [],
   "source": [
    "import random\n",
    "random.seed(109)"
   ]
  },
  {
   "cell_type": "code",
   "execution_count": 257,
   "id": "52cdc42d-f6e4-4213-9ef3-47ae3b2f67be",
   "metadata": {},
   "outputs": [],
   "source": [
    "class Mancala:\n",
    "    def __init__(self, pits_per_player=6, stones_per_pit = 4):\n",
    "\n",
    "        self.pits_per_player = pits_per_player\n",
    "        self.board = [stones_per_pit] * ((pits_per_player+1) * 2)  # Initialize each pit with stones_per_pit number of stones \n",
    "        self.players = 2\n",
    "        self.current_player = 1\n",
    "        self.moves = []\n",
    "        self.p1_pits_index = [0, self.pits_per_player-1]\n",
    "        self.p1_mancala_index = self.pits_per_player\n",
    "        self.p2_pits_index = [self.pits_per_player+1, len(self.board)-1-1]\n",
    "        self.p2_mancala_index = len(self.board)-1\n",
    "        \n",
    "        # Zeroing the Mancala for both players\n",
    "        self.board[self.p1_mancala_index] = 0\n",
    "        self.board[self.p2_mancala_index] = 0\n",
    "\n",
    "    def display_board(self):\n",
    "        player_1_pits = self.board[self.p1_pits_index[0]: self.p1_pits_index[1]+1]\n",
    "        player_1_mancala = self.board[self.p1_mancala_index]\n",
    "        player_2_pits = self.board[self.p2_pits_index[0]: self.p2_pits_index[1]+1]\n",
    "        player_2_mancala = self.board[self.p2_mancala_index]\n",
    "\n",
    "        print('P1               P2')\n",
    "        print('     ____{}____     '.format(player_2_mancala))\n",
    "        for i in range(self.pits_per_player):\n",
    "            if i == self.pits_per_player - 1:\n",
    "                print('{} -> |_{}_|_{}_| <- {}'.format(i+1, player_1_pits[i], \n",
    "                        player_2_pits[-(i+1)], self.pits_per_player - i))\n",
    "            else:    \n",
    "                print('{} -> | {} | {} | <- {}'.format(i+1, player_1_pits[i], \n",
    "                        player_2_pits[-(i+1)], self.pits_per_player - i))\n",
    "            \n",
    "        print('         {}         '.format(player_1_mancala))\n",
    "        turn = 'P1' if self.current_player == 1 else 'P2'\n",
    "        print('Turn: ' + turn)\n",
    "        \n",
    "    def valid_move(self, pit):\n",
    "        player1pits = self.board[self.p1_pits_index[0]: self.p1_pits_index[1]+1]\n",
    "        player2pits = self.board[self.p2_pits_index[0]: self.p2_pits_index[1]+1]\n",
    "        if (pit > self.pits_per_player or pit <= 0): return False\n",
    "        \n",
    "        if (self.current_player == 1):\n",
    "            if player1pits[pit-1] > 0:\n",
    "                #print(\"Player 1 chose pit: \", pit)\n",
    "                return True\n",
    "            else:\n",
    "                return False\n",
    "        else:\n",
    "            if player2pits[pit-1] > 0:\n",
    "                #print(\"Player 2 chose pit: \", pit)\n",
    "                return True\n",
    "            else:\n",
    "                return False\n",
    "\n",
    "        pass\n",
    "        \n",
    "    def random_move_generator(self):\n",
    "\n",
    "        move = random.randint(1, self.pits_per_player)\n",
    "        while not self.valid_move(move): move = random.randint(1, self.pits_per_player)\n",
    "    \n",
    "\n",
    "        return move\n",
    "    \n",
    "    def play(self, pit):\n",
    "        \"\"\"\n",
    "        This function simulates a single move made by a specific player using their selected pit. It primarily performs three tasks:\n",
    "        1. It checks if the chosen pit is a valid move for the current player. If not, it prints \"INVALID MOVE\" and takes no action.\n",
    "        2. It verifies if the game board has already reached a winning state. If so, it prints \"GAME OVER\" and takes no further action.\n",
    "        3. After passing the above two checks, it proceeds to distribute the stones according to the specified Mancala rules.\n",
    "\n",
    "        Finally, the function then switches the current player, allowing the other player to take their turn.\n",
    "        \n",
    "        - On every turn, select a pit and distribute its stones in a counter-clockwise direction.\n",
    "        - If the last stone lands in the player's mancala, in an opponent's pit, or in one of the player's non-empty pits,\n",
    "            no further action is taken, and the current player's turn ends.\n",
    "        - If the last stone lands in the current player's empty pit and the opposite pit on the opponent's side \n",
    "            has some stones, collect all those stones, including the one that just landed, and place them into the \n",
    "            current player's mancala.\n",
    "        \"\"\"\n",
    "        pitsPerPlayer = self.pits_per_player\n",
    "        n = len(self.board)\n",
    "        while(not self.winning_eval()):\n",
    "            ## Get the number of stones in the pit\n",
    "            pit = self.random_move_generator()\n",
    "            stones = self.board[pit - 1]\n",
    "            self.board[pit-1] = 0\n",
    "            for i in range(stones):\n",
    "                ## If pit is smaller than \n",
    "                ## And i is final stone\n",
    "                ## And pit has 0 stones\n",
    "                if(((pit+i) %n) < pitsPerPlayer and i == (stones - 1) and self.board[(pit+i) %n] == 0 and self.board[n - pit - i - 2] != 0):\n",
    "                    #print(\"Index: \", n - pit - i - 2)\n",
    "                    self.board[pitsPerPlayer] += 1 + self.board[n - pit - i - 2]\n",
    "                    self.board[n - pit - i - 2] = 0\n",
    "                else:\n",
    "                    self.board[(pit+i) % n] += 1\n",
    "\n",
    "            self.moves.append((self.current_player, pit))\n",
    "            self.current_player = 2\n",
    "            #self.display_board()\n",
    "            if(self.winning_eval()):\n",
    "                break\n",
    "            move = self.random_move_generator()\n",
    "            pits2 = move + pitsPerPlayer + 1\n",
    "            stones = self.board[pits2 - 1]\n",
    "            self.board[pits2-1] = 0\n",
    "            for i in range(stones):\n",
    "                ## Is smaller than len - 1 \n",
    "                ## Is bigger than pits per player\n",
    "                if((pits2+i)%n < (n-1) and (pits2+i)%n > pitsPerPlayer and i == (stones - 1)\n",
    "                   and self.board[(pits2+i) %n] ==0 and  self.board[n - pits2 - i - 2] != 0):\n",
    "                    #print(\"Index: \", n - pits2 - i - 2)\n",
    "                    self.board[n - 1] += 1 + self.board[n - pits2 - i - 2]\n",
    "                    self.board[n - pits2 - i - 2] = 0\n",
    "                else:\n",
    "                    self.board[(pits2+i) % (n)] += 1\n",
    "\n",
    "            self.moves.append((self.current_player, pit))\n",
    "            self.current_player = 1\n",
    "            #self.display_board()\n",
    "        #print(\"GameOver\")    \n",
    "            \n",
    "        \n",
    "        \n",
    " \n",
    "        return self.board\n",
    "    \n",
    "    def winning_eval(self):\n",
    "        \"\"\"\n",
    "        Function to verify if the game board has reached the winning state.\n",
    "        Hint: If either of the players' pits are all empty, then it is considered a winning state.\n",
    "        \"\"\"\n",
    "        player1pits = self.board[self.p1_pits_index[0]: self.p1_pits_index[1]+1]\n",
    "        player2pits = self.board[self.p2_pits_index[0]: self.p2_pits_index[1]+1]\n",
    "        # Reset count\n",
    "        count1 = 0\n",
    "        count2 = 0\n",
    "        for i in player2pits:\n",
    "            if (i == 0):\n",
    "                count1 +=1\n",
    "        \n",
    "    \n",
    "        # Reset count\n",
    "        for i in player1pits:\n",
    "            if (i == 0):\n",
    "                count2 += 1\n",
    "                \n",
    "        if (count1 == self.pits_per_player or count2 == self.pits_per_player): return True\n",
    "        else: return False\n",
    "\n",
    "        pass\n"
   ]
  },
  {
   "cell_type": "code",
   "execution_count": 292,
   "id": "41e34673-76c7-48e3-87b6-b86b32be614a",
   "metadata": {},
   "outputs": [],
   "source": [
    "game = Mancala(6, 3)\n"
   ]
  },
  {
   "cell_type": "code",
   "execution_count": 293,
   "id": "8a0b544d-8622-43b4-a4f6-3287154963e2",
   "metadata": {},
   "outputs": [
    {
     "name": "stdout",
     "output_type": "stream",
     "text": [
      "P1               P2\n",
      "     ____9____     \n",
      "1 -> | 4 | 0 | <- 6\n",
      "2 -> | 1 | 0 | <- 5\n",
      "3 -> | 2 | 0 | <- 4\n",
      "4 -> | 0 | 0 | <- 3\n",
      "5 -> | 1 | 0 | <- 2\n",
      "6 -> |_2_|_0_| <- 1\n",
      "         17         \n",
      "Turn: P1\n"
     ]
    }
   ],
   "source": [
    "game.play(3)\n",
    "game.display_board()"
   ]
  },
  {
   "cell_type": "code",
   "execution_count": 294,
   "id": "55adf8ef-52ad-4ae6-ab67-8e25263de9c3",
   "metadata": {},
   "outputs": [
    {
     "data": {
      "text/plain": [
       "[25, 28, 47]"
      ]
     },
     "execution_count": 294,
     "metadata": {},
     "output_type": "execute_result"
    }
   ],
   "source": [
    "## Play 100 games\n",
    "import numpy as np\n",
    "arr = [0, 0, 0]\n",
    "totMoves = []\n",
    "for i in range(100):\n",
    "    #Start new game\n",
    "    game = Mancala(6, 3)\n",
    "    game.play(0)\n",
    "    totMoves.append(len(game.moves))\n",
    "    #game.display_board()\n",
    "    # If player 1 has more stones\n",
    "    if (game.board[3] > game.board[7]):\n",
    "        arr[0] += 1\n",
    "    # If player 2 has more stones\n",
    "    elif (game.board[3] < game.board[7]):\n",
    "        arr[1] += 1\n",
    "    # If tie\n",
    "    else:\n",
    "        arr[2] += 1\n",
    "arr"
   ]
  },
  {
   "cell_type": "markdown",
   "id": "fbb09b9f-5d80-409a-ada0-520e1aa3e7d3",
   "metadata": {},
   "source": [
    "### Random player win rates"
   ]
  },
  {
   "cell_type": "code",
   "execution_count": 305,
   "id": "2e6e899d-e741-40f5-8a09-447f760f85d5",
   "metadata": {},
   "outputs": [
    {
     "name": "stdout",
     "output_type": "stream",
     "text": [
      "Random player 1 has a winrate of: 25 %\n",
      "Random player 2 has a winrate of: 28 %\n",
      "The rate of ties is: 47 %\n"
     ]
    }
   ],
   "source": [
    "print(\"Random player 1 has a winrate of:\", arr[0], \"%\")\n",
    "print(\"Random player 2 has a winrate of:\", arr[1], \"%\")\n",
    "print(\"The rate of ties is:\", arr[2], \"%\")"
   ]
  },
  {
   "cell_type": "markdown",
   "id": "bbda7b4c-b458-4d7d-a3d3-3d21ff9ce734",
   "metadata": {},
   "source": [
    "### Average number of moves for game to end"
   ]
  },
  {
   "cell_type": "code",
   "execution_count": 308,
   "id": "278f9595-1209-4258-bb87-23ad66051db1",
   "metadata": {},
   "outputs": [
    {
     "name": "stdout",
     "output_type": "stream",
     "text": [
      "The average number of moves for game to end is: 32.96\n"
     ]
    }
   ],
   "source": [
    "totMoves = np.array(totMoves)\n",
    "print(\"The average number of moves for game to end is:\", np.average(totMoves))"
   ]
  },
  {
   "cell_type": "code",
   "execution_count": null,
   "id": "eb7f128b-6086-4f11-a8fd-12f9210a00f5",
   "metadata": {},
   "outputs": [],
   "source": []
  }
 ],
 "metadata": {
  "kernelspec": {
   "display_name": "Python 3 (ipykernel)",
   "language": "python",
   "name": "python3"
  },
  "language_info": {
   "codemirror_mode": {
    "name": "ipython",
    "version": 3
   },
   "file_extension": ".py",
   "mimetype": "text/x-python",
   "name": "python",
   "nbconvert_exporter": "python",
   "pygments_lexer": "ipython3",
   "version": "3.10.8"
  }
 },
 "nbformat": 4,
 "nbformat_minor": 5
}
